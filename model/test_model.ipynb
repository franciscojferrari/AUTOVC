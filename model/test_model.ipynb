{
 "metadata": {
  "language_info": {
   "codemirror_mode": {
    "name": "ipython",
    "version": 3
   },
   "file_extension": ".py",
   "mimetype": "text/x-python",
   "name": "python",
   "nbconvert_exporter": "python",
   "pygments_lexer": "ipython3",
   "version": "3.6.12"
  },
  "orig_nbformat": 2,
  "kernelspec": {
   "name": "python3612jvsc74a57bd02762fd0ccae7a6827a0de0868563b3d499c815e35640ddddc3d2dc7e9a34dcb9",
   "display_name": "Python 3.6.12 64-bit (conda)"
  }
 },
 "nbformat": 4,
 "nbformat_minor": 2,
 "cells": [
  {
   "cell_type": "code",
   "execution_count": 20,
   "metadata": {},
   "outputs": [],
   "source": [
    "import importlib\n",
    "import autovc as autovc"
   ]
  },
  {
   "cell_type": "code",
   "execution_count": 21,
   "metadata": {},
   "outputs": [],
   "source": [
    "importlib.reload(autovc)\n",
    "model = autovc.AutoVC(dim_emb=256, dim_pre=100, dim_neck=20)"
   ]
  },
  {
   "cell_type": "code",
   "execution_count": 19,
   "metadata": {},
   "outputs": [],
   "source": [
    "model.compile(optimizer=\"Adam\", metrics=[\"loss\"])"
   ]
  },
  {
   "cell_type": "code",
   "execution_count": null,
   "metadata": {},
   "outputs": [],
   "source": [
    "#Speech Embedder experiment\n",
    "number_of_speakers = 12\n",
    "utterances_per_speaker = 10\n",
    "data_points = number_of_speakers * utterances_per_speaker #Number of utterances\n",
    "dimension = 13 #Number of time steps\n",
    "time_steps = 3 #Feature dimension\n",
    "data = np.random.rand(data_points,time_steps,dimension)\n",
    "model = se.SpeechEmbedder(time_steps, dimension)\n",
    "prediction = model.call(data)\n",
    "prediction = tf.reshape(prediction,(number_of_speakers,utterances_per_speaker,256))\n",
    "prediction.shape"
   ]
  }
 ]
}