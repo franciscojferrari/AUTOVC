{
 "nbformat": 4,
 "nbformat_minor": 0,
 "metadata": {
  "orig_nbformat": 2,
  "kernelspec": {
   "name": "python3",
   "display_name": "Python 3"
  },
  "colab": {
   "name": "test_model.ipynb",
   "provenance": [],
   "toc_visible": true
  },
  "language_info": {
   "name": "python"
  },
  "accelerator": "GPU"
 },
 "cells": [
  {
   "cell_type": "code",
   "metadata": {
    "colab": {
     "base_uri": "https://localhost:8080/"
    },
    "id": "8fJUJdCkt3Bm",
    "executionInfo": {
     "status": "ok",
     "timestamp": 1619771293984,
     "user_tz": -120,
     "elapsed": 838,
     "user": {
      "displayName": "Francisco Ferrari",
      "photoUrl": "https://lh3.googleusercontent.com/a-/AOh14GjuMVVuoWlg7nTgL6lacsyMUhIQjxE1RmgVKzdtTg=s64",
      "userId": "14860852617358145498"
     }
    },
    "outputId": "14447623-c0f3-42c7-fc3e-66ad7c0d4124"
   },
   "source": [
    "from google.colab import drive\n",
    "drive.mount('/content/drive')"
   ],
   "execution_count": 6,
   "outputs": [
    {
     "output_type": "stream",
     "text": [
      "Drive already mounted at /content/drive; to attempt to forcibly remount, call drive.mount(\"/content/drive\", force_remount=True).\n"
     ],
     "name": "stdout"
    }
   ]
  },
  {
   "cell_type": "code",
   "metadata": {
    "id": "JTCruQk7ugyN",
    "executionInfo": {
     "status": "ok",
     "timestamp": 1619771293985,
     "user_tz": -120,
     "elapsed": 507,
     "user": {
      "displayName": "Francisco Ferrari",
      "photoUrl": "https://lh3.googleusercontent.com/a-/AOh14GjuMVVuoWlg7nTgL6lacsyMUhIQjxE1RmgVKzdtTg=s64",
      "userId": "14860852617358145498"
     }
    }
   },
   "source": [
    "import os \n",
    "\n",
    "# Set your working directory to a folder in your Google Drive. This way, if your notebook times out,\n",
    "# your files will be saved in your Google Drive!\n",
    "\n",
    "# the base Google Drive directory\n",
    "root_dir = \"/content/drive/My Drive/\"\n",
    "\n",
    "# choose where you want your project files to be saved\n",
    "project_folder = \"KTH/Speech and Speaker Recognition/AUTOVC/\"\n",
    "os.chdir(root_dir + project_folder)\n"
   ],
   "execution_count": 7,
   "outputs": []
  },
  {
   "cell_type": "code",
   "metadata": {
    "id": "pL83-tHzyiSk",
    "executionInfo": {
     "status": "ok",
     "timestamp": 1619771295002,
     "user_tz": -120,
     "elapsed": 982,
     "user": {
      "displayName": "Francisco Ferrari",
      "photoUrl": "https://lh3.googleusercontent.com/a-/AOh14GjuMVVuoWlg7nTgL6lacsyMUhIQjxE1RmgVKzdtTg=s64",
      "userId": "14860852617358145498"
     }
    }
   },
   "source": [
    "import importlib\n",
    "import model.autovc as autovc\n",
    "import numpy as np\n",
    "import pickle\n",
    "import tensorflow as tf"
   ],
   "execution_count": 8,
   "outputs": []
  },
  {
   "cell_type": "markdown",
   "metadata": {
    "id": "KPnzEFx8yiSr"
   },
   "source": [
    "## Experiment with meta data from autovc repo"
   ]
  },
  {
   "cell_type": "code",
   "metadata": {
    "colab": {
     "base_uri": "https://localhost:8080/"
    },
    "id": "pNCLUE5YyiSs",
    "executionInfo": {
     "status": "ok",
     "timestamp": 1619771297434,
     "user_tz": -120,
     "elapsed": 1689,
     "user": {
      "displayName": "Francisco Ferrari",
      "photoUrl": "https://lh3.googleusercontent.com/a-/AOh14GjuMVVuoWlg7nTgL6lacsyMUhIQjxE1RmgVKzdtTg=s64",
      "userId": "14860852617358145498"
     }
    },
    "outputId": "de4e4890-0486-4361-876c-7aa86e735163"
   },
   "source": [
    "with open('model/metadata.pkl', 'rb') as f:\n",
    "    data = pickle.load(f)\n",
    "# data = np.array(data)\n",
    "mel_specs, sp_emb = [], [] \n",
    "for d in data:\n",
    "    sp_emb.append(d[1])\n",
    "    print(d[2].shape)\n",
    "    mel_specs.append(d[2])\n",
    "mel_specs = np.array(mel_specs)\n",
    "sp_emb = np.array(sp_emb)"
   ],
   "execution_count": 9,
   "outputs": [
    {
     "output_type": "stream",
     "text": [
      "(90, 80)\n",
      "(89, 80)\n",
      "(75, 80)\n",
      "(109, 80)\n"
     ],
     "name": "stdout"
    },
    {
     "output_type": "stream",
     "text": [
      "/usr/local/lib/python3.7/dist-packages/ipykernel_launcher.py:9: VisibleDeprecationWarning: Creating an ndarray from ragged nested sequences (which is a list-or-tuple of lists-or-tuples-or ndarrays with different lengths or shapes) is deprecated. If you meant to do this, you must specify 'dtype=object' when creating the ndarray\n",
      "  if __name__ == '__main__':\n"
     ],
     "name": "stderr"
    }
   ]
  },
  {
   "cell_type": "code",
   "metadata": {
    "colab": {
     "base_uri": "https://localhost:8080/"
    },
    "id": "ddXu87CvyiSt",
    "executionInfo": {
     "status": "ok",
     "timestamp": 1619771297435,
     "user_tz": -120,
     "elapsed": 1518,
     "user": {
      "displayName": "Francisco Ferrari",
      "photoUrl": "https://lh3.googleusercontent.com/a-/AOh14GjuMVVuoWlg7nTgL6lacsyMUhIQjxE1RmgVKzdtTg=s64",
      "userId": "14860852617358145498"
     }
    },
    "outputId": "75017065-a38e-4193-91c3-20e3735bffa2"
   },
   "source": [
    "sp_emb.shape"
   ],
   "execution_count": 10,
   "outputs": [
    {
     "output_type": "execute_result",
     "data": {
      "text/plain": [
       "(4, 256)"
      ]
     },
     "metadata": {
      "tags": []
     },
     "execution_count": 10
    }
   ]
  },
  {
   "cell_type": "code",
   "metadata": {
    "colab": {
     "base_uri": "https://localhost:8080/"
    },
    "id": "cFi1vRb5yiSu",
    "executionInfo": {
     "status": "ok",
     "timestamp": 1619771297438,
     "user_tz": -120,
     "elapsed": 1357,
     "user": {
      "displayName": "Francisco Ferrari",
      "photoUrl": "https://lh3.googleusercontent.com/a-/AOh14GjuMVVuoWlg7nTgL6lacsyMUhIQjxE1RmgVKzdtTg=s64",
      "userId": "14860852617358145498"
     }
    },
    "outputId": "bf18451a-6051-4b4a-fdf1-ac23340902b3"
   },
   "source": [
    "mel_specs.shape"
   ],
   "execution_count": 11,
   "outputs": [
    {
     "output_type": "execute_result",
     "data": {
      "text/plain": [
       "(4,)"
      ]
     },
     "metadata": {
      "tags": []
     },
     "execution_count": 11
    }
   ]
  },
  {
   "cell_type": "code",
   "metadata": {
    "id": "Cejuz5ja5fiR",
    "executionInfo": {
     "status": "ok",
     "timestamp": 1619771392241,
     "user_tz": -120,
     "elapsed": 820,
     "user": {
      "displayName": "Francisco Ferrari",
      "photoUrl": "https://lh3.googleusercontent.com/a-/AOh14GjuMVVuoWlg7nTgL6lacsyMUhIQjxE1RmgVKzdtTg=s64",
      "userId": "14860852617358145498"
     }
    },
    "outputId": "b5cce106-ae58-4d73-f679-7bd8482621cd",
    "colab": {
     "base_uri": "https://localhost:8080/"
    }
   },
   "source": [
    "importlib.reload(autovc)"
   ],
   "execution_count": 14,
   "outputs": [
    {
     "output_type": "execute_result",
     "data": {
      "text/plain": [
       "<module 'model.autovc' from '/content/drive/My Drive/KTH/Speech and Speaker Recognition/AUTOVC/model/autovc.py'>"
      ]
     },
     "metadata": {
      "tags": []
     },
     "execution_count": 14
    }
   ]
  },
  {
   "cell_type": "code",
   "metadata": {
    "id": "bVgK1IjCyiSu",
    "colab": {
     "base_uri": "https://localhost:8080/",
     "height": 1000
    },
    "executionInfo": {
     "status": "error",
     "timestamp": 1619771393969,
     "user_tz": -120,
     "elapsed": 846,
     "user": {
      "displayName": "Francisco Ferrari",
      "photoUrl": "https://lh3.googleusercontent.com/a-/AOh14GjuMVVuoWlg7nTgL6lacsyMUhIQjxE1RmgVKzdtTg=s64",
      "userId": "14860852617358145498"
     }
    },
    "outputId": "70de18b1-91ab-4834-fde0-c795bd3abfb3"
   },
   "source": [
    "padded_mel_specs = tf.keras.preprocessing.sequence.pad_sequences(mel_specs, padding=\"post\", dtype='float32',value=-1.0, maxlen=128)\n",
    "\n",
    "model = autovc.AutoVC(time_dim=128, dim_emb=256, dim_pre=512, dim_neck=16)\n",
    "model.compile(optimizer=\"Adam\", metrics=[\"loss\"])\n",
    "mel_output, mel_output_postnet, codes = model(padded_mel_specs, sp_emb, sp_emb)"
   ],
   "execution_count": 15,
   "outputs": [
    {
     "output_type": "error",
     "ename": "TypeError",
     "evalue": "ignored",
     "traceback": [
      "\u001B[0;31m---------------------------------------------------------------------------\u001B[0m",
      "\u001B[0;31mTypeError\u001B[0m                                 Traceback (most recent call last)",
      "\u001B[0;32m<ipython-input-15-cb24bd792d2f>\u001B[0m in \u001B[0;36m<module>\u001B[0;34m()\u001B[0m\n\u001B[1;32m      3\u001B[0m \u001B[0mmodel\u001B[0m \u001B[0;34m=\u001B[0m \u001B[0mautovc\u001B[0m\u001B[0;34m.\u001B[0m\u001B[0mAutoVC\u001B[0m\u001B[0;34m(\u001B[0m\u001B[0mtime_dim\u001B[0m\u001B[0;34m=\u001B[0m\u001B[0;36m128\u001B[0m\u001B[0;34m,\u001B[0m \u001B[0mdim_emb\u001B[0m\u001B[0;34m=\u001B[0m\u001B[0;36m256\u001B[0m\u001B[0;34m,\u001B[0m \u001B[0mdim_pre\u001B[0m\u001B[0;34m=\u001B[0m\u001B[0;36m512\u001B[0m\u001B[0;34m,\u001B[0m \u001B[0mdim_neck\u001B[0m\u001B[0;34m=\u001B[0m\u001B[0;36m16\u001B[0m\u001B[0;34m)\u001B[0m\u001B[0;34m\u001B[0m\u001B[0;34m\u001B[0m\u001B[0m\n\u001B[1;32m      4\u001B[0m \u001B[0mmodel\u001B[0m\u001B[0;34m.\u001B[0m\u001B[0mcompile\u001B[0m\u001B[0;34m(\u001B[0m\u001B[0moptimizer\u001B[0m\u001B[0;34m=\u001B[0m\u001B[0;34m\"Adam\"\u001B[0m\u001B[0;34m,\u001B[0m \u001B[0mmetrics\u001B[0m\u001B[0;34m=\u001B[0m\u001B[0;34m[\u001B[0m\u001B[0;34m\"loss\"\u001B[0m\u001B[0;34m]\u001B[0m\u001B[0;34m)\u001B[0m\u001B[0;34m\u001B[0m\u001B[0;34m\u001B[0m\u001B[0m\n\u001B[0;32m----> 5\u001B[0;31m \u001B[0mmel_output\u001B[0m\u001B[0;34m,\u001B[0m \u001B[0mmel_output_postnet\u001B[0m\u001B[0;34m,\u001B[0m \u001B[0mcodes\u001B[0m \u001B[0;34m=\u001B[0m \u001B[0mmodel\u001B[0m\u001B[0;34m(\u001B[0m\u001B[0mpadded_mel_specs\u001B[0m\u001B[0;34m,\u001B[0m \u001B[0msp_emb\u001B[0m\u001B[0;34m,\u001B[0m \u001B[0msp_emb\u001B[0m\u001B[0;34m)\u001B[0m\u001B[0;34m\u001B[0m\u001B[0;34m\u001B[0m\u001B[0m\n\u001B[0m",
      "\u001B[0;32m/usr/local/lib/python3.7/dist-packages/tensorflow/python/keras/engine/base_layer.py\u001B[0m in \u001B[0;36m__call__\u001B[0;34m(self, *args, **kwargs)\u001B[0m\n\u001B[1;32m   1010\u001B[0m         with autocast_variable.enable_auto_cast_variables(\n\u001B[1;32m   1011\u001B[0m             self._compute_dtype_object):\n\u001B[0;32m-> 1012\u001B[0;31m           \u001B[0moutputs\u001B[0m \u001B[0;34m=\u001B[0m \u001B[0mcall_fn\u001B[0m\u001B[0;34m(\u001B[0m\u001B[0minputs\u001B[0m\u001B[0;34m,\u001B[0m \u001B[0;34m*\u001B[0m\u001B[0margs\u001B[0m\u001B[0;34m,\u001B[0m \u001B[0;34m**\u001B[0m\u001B[0mkwargs\u001B[0m\u001B[0;34m)\u001B[0m\u001B[0;34m\u001B[0m\u001B[0;34m\u001B[0m\u001B[0m\n\u001B[0m\u001B[1;32m   1013\u001B[0m \u001B[0;34m\u001B[0m\u001B[0m\n\u001B[1;32m   1014\u001B[0m         \u001B[0;32mif\u001B[0m \u001B[0mself\u001B[0m\u001B[0;34m.\u001B[0m\u001B[0m_activity_regularizer\u001B[0m\u001B[0;34m:\u001B[0m\u001B[0;34m\u001B[0m\u001B[0;34m\u001B[0m\u001B[0m\n",
      "\u001B[0;32m/content/drive/My Drive/KTH/Speech and Speaker Recognition/AUTOVC/model/autovc.py\u001B[0m in \u001B[0;36mcall\u001B[0;34m(self, mel_spec, speak_emb, speak_emb_trg)\u001B[0m\n\u001B[1;32m    120\u001B[0m \u001B[0;34m\u001B[0m\u001B[0m\n\u001B[1;32m    121\u001B[0m     \u001B[0;32mdef\u001B[0m \u001B[0mcall\u001B[0m\u001B[0;34m(\u001B[0m\u001B[0mself\u001B[0m\u001B[0;34m,\u001B[0m \u001B[0mmel_spec\u001B[0m\u001B[0;34m,\u001B[0m \u001B[0mspeak_emb\u001B[0m\u001B[0;34m,\u001B[0m \u001B[0mspeak_emb_trg\u001B[0m\u001B[0;34m)\u001B[0m\u001B[0;34m:\u001B[0m\u001B[0;34m\u001B[0m\u001B[0;34m\u001B[0m\u001B[0m\n\u001B[0;32m--> 122\u001B[0;31m         \u001B[0mcodes\u001B[0m \u001B[0;34m=\u001B[0m \u001B[0mself\u001B[0m\u001B[0;34m.\u001B[0m\u001B[0mencoder\u001B[0m\u001B[0;34m(\u001B[0m\u001B[0mmel_spec\u001B[0m\u001B[0;34m,\u001B[0m \u001B[0mspeak_emb\u001B[0m\u001B[0;34m)\u001B[0m\u001B[0;34m\u001B[0m\u001B[0;34m\u001B[0m\u001B[0m\n\u001B[0m\u001B[1;32m    123\u001B[0m \u001B[0;34m\u001B[0m\u001B[0m\n\u001B[1;32m    124\u001B[0m         \u001B[0mtmp\u001B[0m \u001B[0;34m=\u001B[0m \u001B[0;34m[\u001B[0m\u001B[0;34m]\u001B[0m\u001B[0;34m\u001B[0m\u001B[0;34m\u001B[0m\u001B[0m\n",
      "\u001B[0;32m/usr/local/lib/python3.7/dist-packages/tensorflow/python/keras/engine/base_layer.py\u001B[0m in \u001B[0;36m__call__\u001B[0;34m(self, *args, **kwargs)\u001B[0m\n\u001B[1;32m   1010\u001B[0m         with autocast_variable.enable_auto_cast_variables(\n\u001B[1;32m   1011\u001B[0m             self._compute_dtype_object):\n\u001B[0;32m-> 1012\u001B[0;31m           \u001B[0moutputs\u001B[0m \u001B[0;34m=\u001B[0m \u001B[0mcall_fn\u001B[0m\u001B[0;34m(\u001B[0m\u001B[0minputs\u001B[0m\u001B[0;34m,\u001B[0m \u001B[0;34m*\u001B[0m\u001B[0margs\u001B[0m\u001B[0;34m,\u001B[0m \u001B[0;34m**\u001B[0m\u001B[0mkwargs\u001B[0m\u001B[0;34m)\u001B[0m\u001B[0;34m\u001B[0m\u001B[0;34m\u001B[0m\u001B[0m\n\u001B[0m\u001B[1;32m   1013\u001B[0m \u001B[0;34m\u001B[0m\u001B[0m\n\u001B[1;32m   1014\u001B[0m         \u001B[0;32mif\u001B[0m \u001B[0mself\u001B[0m\u001B[0;34m.\u001B[0m\u001B[0m_activity_regularizer\u001B[0m\u001B[0;34m:\u001B[0m\u001B[0;34m\u001B[0m\u001B[0;34m\u001B[0m\u001B[0m\n",
      "\u001B[0;32m/content/drive/My Drive/KTH/Speech and Speaker Recognition/AUTOVC/model/autovc.py\u001B[0m in \u001B[0;36mcall\u001B[0;34m(self, mel_spec, speak_emb)\u001B[0m\n\u001B[1;32m     31\u001B[0m                                                             \u001B[0mpadding\u001B[0m \u001B[0;34m=\u001B[0m \u001B[0;34m\"post\"\u001B[0m\u001B[0;34m,\u001B[0m\u001B[0;34m\u001B[0m\u001B[0;34m\u001B[0m\u001B[0m\n\u001B[1;32m     32\u001B[0m                                                             value = -1.0, truncating = \"post\")\n\u001B[0;32m---> 33\u001B[0;31m         \u001B[0mmel_spec\u001B[0m \u001B[0;34m=\u001B[0m \u001B[0mmasking\u001B[0m\u001B[0;34m(\u001B[0m\u001B[0mmel_spec\u001B[0m\u001B[0;34m)\u001B[0m\u001B[0;34m\u001B[0m\u001B[0;34m\u001B[0m\u001B[0m\n\u001B[0m\u001B[1;32m     34\u001B[0m \u001B[0;34m\u001B[0m\u001B[0m\n\u001B[1;32m     35\u001B[0m         \u001B[0mmel_spec\u001B[0m \u001B[0;34m=\u001B[0m \u001B[0mtf\u001B[0m\u001B[0;34m.\u001B[0m\u001B[0mtranspose\u001B[0m\u001B[0;34m(\u001B[0m\u001B[0mmel_spec\u001B[0m\u001B[0;34m,\u001B[0m \u001B[0;34m[\u001B[0m\u001B[0;36m0\u001B[0m\u001B[0;34m,\u001B[0m \u001B[0;36m2\u001B[0m\u001B[0;34m,\u001B[0m \u001B[0;36m1\u001B[0m\u001B[0;34m]\u001B[0m\u001B[0;34m)\u001B[0m\u001B[0;34m\u001B[0m\u001B[0;34m\u001B[0m\u001B[0m\n",
      "\u001B[0;32m/usr/local/lib/python3.7/dist-packages/tensorflow/python/keras/engine/base_layer.py\u001B[0m in \u001B[0;36m__call__\u001B[0;34m(self, *args, **kwargs)\u001B[0m\n\u001B[1;32m   1010\u001B[0m         with autocast_variable.enable_auto_cast_variables(\n\u001B[1;32m   1011\u001B[0m             self._compute_dtype_object):\n\u001B[0;32m-> 1012\u001B[0;31m           \u001B[0moutputs\u001B[0m \u001B[0;34m=\u001B[0m \u001B[0mcall_fn\u001B[0m\u001B[0;34m(\u001B[0m\u001B[0minputs\u001B[0m\u001B[0;34m,\u001B[0m \u001B[0;34m*\u001B[0m\u001B[0margs\u001B[0m\u001B[0;34m,\u001B[0m \u001B[0;34m**\u001B[0m\u001B[0mkwargs\u001B[0m\u001B[0;34m)\u001B[0m\u001B[0;34m\u001B[0m\u001B[0;34m\u001B[0m\u001B[0m\n\u001B[0m\u001B[1;32m   1013\u001B[0m \u001B[0;34m\u001B[0m\u001B[0m\n\u001B[1;32m   1014\u001B[0m         \u001B[0;32mif\u001B[0m \u001B[0mself\u001B[0m\u001B[0;34m.\u001B[0m\u001B[0m_activity_regularizer\u001B[0m\u001B[0;34m:\u001B[0m\u001B[0;34m\u001B[0m\u001B[0;34m\u001B[0m\u001B[0m\n",
      "\u001B[0;32m/usr/local/lib/python3.7/dist-packages/tensorflow/python/keras/layers/core.py\u001B[0m in \u001B[0;36mcall\u001B[0;34m(self, inputs)\u001B[0m\n\u001B[1;32m    126\u001B[0m   \u001B[0;32mdef\u001B[0m \u001B[0mcall\u001B[0m\u001B[0;34m(\u001B[0m\u001B[0mself\u001B[0m\u001B[0;34m,\u001B[0m \u001B[0minputs\u001B[0m\u001B[0;34m)\u001B[0m\u001B[0;34m:\u001B[0m\u001B[0;34m\u001B[0m\u001B[0;34m\u001B[0m\u001B[0m\n\u001B[1;32m    127\u001B[0m     boolean_mask = K.any(\n\u001B[0;32m--> 128\u001B[0;31m         math_ops.not_equal(inputs, self.mask_value), axis=-1, keepdims=True)\n\u001B[0m\u001B[1;32m    129\u001B[0m     \u001B[0moutputs\u001B[0m \u001B[0;34m=\u001B[0m \u001B[0minputs\u001B[0m \u001B[0;34m*\u001B[0m \u001B[0mmath_ops\u001B[0m\u001B[0;34m.\u001B[0m\u001B[0mcast\u001B[0m\u001B[0;34m(\u001B[0m\u001B[0mboolean_mask\u001B[0m\u001B[0;34m,\u001B[0m \u001B[0minputs\u001B[0m\u001B[0;34m.\u001B[0m\u001B[0mdtype\u001B[0m\u001B[0;34m)\u001B[0m\u001B[0;34m\u001B[0m\u001B[0;34m\u001B[0m\u001B[0m\n\u001B[1;32m    130\u001B[0m     \u001B[0;31m# Compute the mask and outputs simultaneously.\u001B[0m\u001B[0;34m\u001B[0m\u001B[0;34m\u001B[0m\u001B[0;34m\u001B[0m\u001B[0m\n",
      "\u001B[0;32m/usr/local/lib/python3.7/dist-packages/tensorflow/python/util/dispatch.py\u001B[0m in \u001B[0;36mwrapper\u001B[0;34m(*args, **kwargs)\u001B[0m\n\u001B[1;32m    199\u001B[0m     \u001B[0;34m\"\"\"Call target, and fall back on dispatchers if there is a TypeError.\"\"\"\u001B[0m\u001B[0;34m\u001B[0m\u001B[0;34m\u001B[0m\u001B[0m\n\u001B[1;32m    200\u001B[0m     \u001B[0;32mtry\u001B[0m\u001B[0;34m:\u001B[0m\u001B[0;34m\u001B[0m\u001B[0;34m\u001B[0m\u001B[0m\n\u001B[0;32m--> 201\u001B[0;31m       \u001B[0;32mreturn\u001B[0m \u001B[0mtarget\u001B[0m\u001B[0;34m(\u001B[0m\u001B[0;34m*\u001B[0m\u001B[0margs\u001B[0m\u001B[0;34m,\u001B[0m \u001B[0;34m**\u001B[0m\u001B[0mkwargs\u001B[0m\u001B[0;34m)\u001B[0m\u001B[0;34m\u001B[0m\u001B[0;34m\u001B[0m\u001B[0m\n\u001B[0m\u001B[1;32m    202\u001B[0m     \u001B[0;32mexcept\u001B[0m \u001B[0;34m(\u001B[0m\u001B[0mTypeError\u001B[0m\u001B[0;34m,\u001B[0m \u001B[0mValueError\u001B[0m\u001B[0;34m)\u001B[0m\u001B[0;34m:\u001B[0m\u001B[0;34m\u001B[0m\u001B[0;34m\u001B[0m\u001B[0m\n\u001B[1;32m    203\u001B[0m       \u001B[0;31m# Note: convert_to_eager_tensor currently raises a ValueError, not a\u001B[0m\u001B[0;34m\u001B[0m\u001B[0;34m\u001B[0m\u001B[0;34m\u001B[0m\u001B[0m\n",
      "\u001B[0;32m/usr/local/lib/python3.7/dist-packages/tensorflow/python/ops/math_ops.py\u001B[0m in \u001B[0;36mnot_equal\u001B[0;34m(x, y, name)\u001B[0m\n\u001B[1;32m   1713\u001B[0m     \u001B[0;31m`\u001B[0m\u001B[0mtf\u001B[0m\u001B[0;34m.\u001B[0m\u001B[0merrors\u001B[0m\u001B[0;34m.\u001B[0m\u001B[0mInvalidArgumentError\u001B[0m\u001B[0;31m`\u001B[0m\u001B[0;34m:\u001B[0m \u001B[0mIf\u001B[0m \u001B[0mshapes\u001B[0m \u001B[0mof\u001B[0m \u001B[0marguments\u001B[0m \u001B[0mare\u001B[0m \u001B[0mincompatible\u001B[0m\u001B[0;34m\u001B[0m\u001B[0;34m\u001B[0m\u001B[0m\n\u001B[1;32m   1714\u001B[0m   \"\"\"\n\u001B[0;32m-> 1715\u001B[0;31m   \u001B[0;32mreturn\u001B[0m \u001B[0mgen_math_ops\u001B[0m\u001B[0;34m.\u001B[0m\u001B[0mnot_equal\u001B[0m\u001B[0;34m(\u001B[0m\u001B[0mx\u001B[0m\u001B[0;34m,\u001B[0m \u001B[0my\u001B[0m\u001B[0;34m,\u001B[0m \u001B[0mname\u001B[0m\u001B[0;34m=\u001B[0m\u001B[0mname\u001B[0m\u001B[0;34m)\u001B[0m\u001B[0;34m\u001B[0m\u001B[0;34m\u001B[0m\u001B[0m\n\u001B[0m\u001B[1;32m   1716\u001B[0m \u001B[0;34m\u001B[0m\u001B[0m\n\u001B[1;32m   1717\u001B[0m \u001B[0;34m\u001B[0m\u001B[0m\n",
      "\u001B[0;32m/usr/local/lib/python3.7/dist-packages/tensorflow/python/ops/gen_math_ops.py\u001B[0m in \u001B[0;36mnot_equal\u001B[0;34m(x, y, incompatible_shape_error, name)\u001B[0m\n\u001B[1;32m   6391\u001B[0m       _result = pywrap_tfe.TFE_Py_FastPathExecute(\n\u001B[1;32m   6392\u001B[0m         \u001B[0m_ctx\u001B[0m\u001B[0;34m,\u001B[0m \u001B[0;34m\"NotEqual\"\u001B[0m\u001B[0;34m,\u001B[0m \u001B[0mname\u001B[0m\u001B[0;34m,\u001B[0m \u001B[0mx\u001B[0m\u001B[0;34m,\u001B[0m \u001B[0my\u001B[0m\u001B[0;34m,\u001B[0m \u001B[0;34m\"incompatible_shape_error\"\u001B[0m\u001B[0;34m,\u001B[0m\u001B[0;34m\u001B[0m\u001B[0;34m\u001B[0m\u001B[0m\n\u001B[0;32m-> 6393\u001B[0;31m         incompatible_shape_error)\n\u001B[0m\u001B[1;32m   6394\u001B[0m       \u001B[0;32mreturn\u001B[0m \u001B[0m_result\u001B[0m\u001B[0;34m\u001B[0m\u001B[0;34m\u001B[0m\u001B[0m\n\u001B[1;32m   6395\u001B[0m     \u001B[0;32mexcept\u001B[0m \u001B[0m_core\u001B[0m\u001B[0;34m.\u001B[0m\u001B[0m_NotOkStatusException\u001B[0m \u001B[0;32mas\u001B[0m \u001B[0me\u001B[0m\u001B[0;34m:\u001B[0m\u001B[0;34m\u001B[0m\u001B[0;34m\u001B[0m\u001B[0m\n",
      "\u001B[0;31mTypeError\u001B[0m: Cannot convert -1.0 to EagerTensor of dtype int32"
     ]
    }
   ]
  },
  {
   "cell_type": "code",
   "metadata": {
    "id": "mjOD4Re4yiSv",
    "executionInfo": {
     "status": "aborted",
     "timestamp": 1619771386127,
     "user_tz": -120,
     "elapsed": 1011,
     "user": {
      "displayName": "Francisco Ferrari",
      "photoUrl": "https://lh3.googleusercontent.com/a-/AOh14GjuMVVuoWlg7nTgL6lacsyMUhIQjxE1RmgVKzdtTg=s64",
      "userId": "14860852617358145498"
     }
    }
   },
   "source": [
    ""
   ],
   "execution_count": null,
   "outputs": []
  }
 ]
}