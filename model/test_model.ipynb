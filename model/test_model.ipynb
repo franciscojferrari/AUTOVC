{
 "metadata": {
  "language_info": {
   "codemirror_mode": {
    "name": "ipython",
    "version": 3
   },
   "file_extension": ".py",
   "mimetype": "text/x-python",
   "name": "python",
   "nbconvert_exporter": "python",
   "pygments_lexer": "ipython3",
   "version": "3.6.12"
  },
  "orig_nbformat": 2,
  "kernelspec": {
   "name": "python3612jvsc74a57bd02762fd0ccae7a6827a0de0868563b3d499c815e35640ddddc3d2dc7e9a34dcb9",
   "display_name": "Python 3.6.12 64-bit (conda)"
  }
 },
 "nbformat": 4,
 "nbformat_minor": 2,
 "cells": [
  {
   "cell_type": "code",
   "execution_count": 28,
   "metadata": {},
   "outputs": [],
   "source": [
    "import importlib\n",
    "import autovc as autovc\n",
    "import numpy as np\n",
    "import pickle\n",
    "import tensorflow as tf"
   ]
  },
  {
   "source": [
    "## Experiment with meta data from autovc repo"
   ],
   "cell_type": "markdown",
   "metadata": {}
  },
  {
   "cell_type": "code",
   "execution_count": 29,
   "metadata": {},
   "outputs": [
    {
     "output_type": "stream",
     "name": "stdout",
     "text": [
      "(90, 80)\n",
      "(89, 80)\n",
      "(75, 80)\n",
      "(109, 80)\n",
      "ipykernel_launcher:9: VisibleDeprecationWarning: Creating an ndarray from ragged nested sequences (which is a list-or-tuple of lists-or-tuples-or ndarrays with different lengths or shapes) is deprecated. If you meant to do this, you must specify 'dtype=object' when creating the ndarray\n"
     ]
    }
   ],
   "source": [
    "with open('metadata.pkl', 'rb') as f:\n",
    "    data = pickle.load(f)\n",
    "# data = np.array(data)\n",
    "mel_specs, sp_emb = [], [] \n",
    "for d in data:\n",
    "    sp_emb.append(d[1])\n",
    "    print(d[2].shape)\n",
    "    mel_specs.append(d[2])\n",
    "mel_specs = np.array(mel_specs)\n",
    "sp_emb = np.array(sp_emb).astype('float32')"
   ]
  },
  {
   "cell_type": "code",
   "execution_count": 30,
   "metadata": {},
   "outputs": [
    {
     "output_type": "execute_result",
     "data": {
      "text/plain": [
       "(4, 256)"
      ]
     },
     "metadata": {},
     "execution_count": 30
    }
   ],
   "source": [
    "sp_emb.shape"
   ]
  },
  {
   "cell_type": "code",
   "execution_count": 31,
   "metadata": {},
   "outputs": [
    {
     "output_type": "execute_result",
     "data": {
      "text/plain": [
       "(4,)"
      ]
     },
     "metadata": {},
     "execution_count": 31
    }
   ],
   "source": [
    "mel_specs.shape"
   ]
  },
  {
   "cell_type": "code",
   "execution_count": 49,
   "metadata": {},
   "outputs": [],
   "source": [
    "importlib.reload(autovc)\n",
    "padded_mel_specs = tf.keras.preprocessing.sequence.pad_sequences(mel_specs, padding=\"post\", dtype='float32',value=-1.0, maxlen=128, truncating=\"post\")\n",
    "model = autovc.AutoVC(time_dim=128, dim_emb=256, dim_pre=512, dim_neck=16)\n",
    "model.compile(optimizer=\"Adam\", metrics=[\"loss\"], loss = [tf.keras.losses.MSE, tf.keras.losses.MSE])\n",
    "# mel_output, mel_output_postnet = model((padded_mel_specs, sp_emb, sp_emb))"
   ]
  },
  {
   "cell_type": "code",
   "execution_count": 52,
   "metadata": {},
   "outputs": [],
   "source": [
    "# model.fit((padded_mel_specs, sp_emb, sp_emb), (padded_mel_specs, padded_mel_specs),epochs=1, batch_size=1)"
   ]
  },
  {
   "source": [
    "## Test Encoder with Functional API "
   ],
   "cell_type": "markdown",
   "metadata": {}
  },
  {
   "cell_type": "code",
   "execution_count": 86,
   "metadata": {},
   "outputs": [
    {
     "output_type": "stream",
     "name": "stdout",
     "text": [
      "test (4, 128, 80)\n",
      "(4, 512, 32)\n"
     ]
    }
   ],
   "source": [
    "importlib.reload(autovc)\n",
    "encoder = autovc.Encoder()\n",
    "codes = encoder(padded_mel_specs, sp_emb)"
   ]
  },
  {
   "cell_type": "code",
   "execution_count": 76,
   "metadata": {},
   "outputs": [
    {
     "output_type": "execute_result",
     "data": {
      "text/plain": [
       "TensorShape([16, 4, 32])"
      ]
     },
     "metadata": {},
     "execution_count": 76
    }
   ],
   "source": [
    "codes.shape"
   ]
  },
  {
   "cell_type": "code",
   "execution_count": 85,
   "metadata": {},
   "outputs": [
    {
     "output_type": "execute_result",
     "data": {
      "text/plain": [
       "TensorShape([16, 128, 32])"
      ]
     },
     "metadata": {},
     "execution_count": 85
    }
   ],
   "source": [
    "tf.keras.layers.UpSampling1D(32)(codes).shape"
   ]
  },
  {
   "source": [
    "## Test UpSampling with Functional API"
   ],
   "cell_type": "markdown",
   "metadata": {}
  },
  {
   "cell_type": "code",
   "execution_count": 88,
   "metadata": {},
   "outputs": [],
   "source": [
    "importlib.reload(autovc)\n",
    "upsample = autovc.UpSampling()\n",
    "output = upsample(codes, sp_emb)"
   ]
  },
  {
   "source": [
    "## Test Decoder with Functional API "
   ],
   "cell_type": "markdown",
   "metadata": {}
  },
  {
   "cell_type": "code",
   "execution_count": 95,
   "metadata": {},
   "outputs": [],
   "source": [
    "importlib.reload(autovc)\n",
    "decoder = autovc.Decoder()\n",
    "mel_decoder = decoder(output)"
   ]
  },
  {
   "cell_type": "code",
   "execution_count": 94,
   "metadata": {},
   "outputs": [
    {
     "output_type": "execute_result",
     "data": {
      "text/plain": [
       "TensorShape([4, 128, 80])"
      ]
     },
     "metadata": {},
     "execution_count": 94
    }
   ],
   "source": [
    "mel_decoder.shape"
   ]
  },
  {
   "source": [
    "## Test Posnet with Functional API"
   ],
   "cell_type": "markdown",
   "metadata": {}
  },
  {
   "cell_type": "code",
   "execution_count": 96,
   "metadata": {},
   "outputs": [],
   "source": [
    "importlib.reload(autovc)\n",
    "postnet = autovc.PostNet()\n",
    "mel_postnet = postnet(mel_decoder)"
   ]
  },
  {
   "cell_type": "code",
   "execution_count": 97,
   "metadata": {},
   "outputs": [
    {
     "output_type": "execute_result",
     "data": {
      "text/plain": [
       "TensorShape([4, 128, 80])"
      ]
     },
     "metadata": {},
     "execution_count": 97
    }
   ],
   "source": [
    "mel_postnet.shape"
   ]
  }
 ]
}