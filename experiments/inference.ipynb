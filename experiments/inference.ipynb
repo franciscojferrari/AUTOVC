{
  "nbformat": 4,
  "nbformat_minor": 0,
  "metadata": {
    "orig_nbformat": 2,
    "colab": {
      "name": "inference.ipynb",
      "provenance": []
    },
    "language_info": {
      "name": "python"
    },
    "kernelspec": {
      "name": "python3",
      "display_name": "Python 3"
    },
    "accelerator": "GPU"
  },
  "cells": [
    {
      "cell_type": "markdown",
      "metadata": {
        "id": "U65FfsD0Lxzq"
      },
      "source": [
        "## Environemen Setup "
      ]
    },
    {
      "cell_type": "code",
      "metadata": {
        "colab": {
          "base_uri": "https://localhost:8080/"
        },
        "id": "dqsqUJxiL-mG",
        "outputId": "25e62fda-4522-4a28-ada2-5283806a5816"
      },
      "source": [
        "!curl ipinfo.io"
      ],
      "execution_count": 19,
      "outputs": [
        {
          "output_type": "stream",
          "text": [
            "{\n",
            "  \"ip\": \"104.196.231.123\",\n",
            "  \"hostname\": \"123.231.196.104.bc.googleusercontent.com\",\n",
            "  \"city\": \"The Dalles\",\n",
            "  \"region\": \"Oregon\",\n",
            "  \"country\": \"US\",\n",
            "  \"loc\": \"45.5946,-121.1787\",\n",
            "  \"org\": \"AS15169 Google LLC\",\n",
            "  \"postal\": \"97058\",\n",
            "  \"timezone\": \"America/Los_Angeles\",\n",
            "  \"readme\": \"https://ipinfo.io/missingauth\"\n",
            "}"
          ],
          "name": "stdout"
        }
      ]
    },
    {
      "cell_type": "code",
      "metadata": {
        "colab": {
          "base_uri": "https://localhost:8080/"
        },
        "id": "dmAMOL2WAsQ9",
        "outputId": "42785483-8ddf-4ddc-c7c7-8431fcd54fbf"
      },
      "source": [
        "!nvidia-smi"
      ],
      "execution_count": 22,
      "outputs": [
        {
          "output_type": "stream",
          "text": [
            "Mon May 24 07:23:50 2021       \n",
            "+-----------------------------------------------------------------------------+\n",
            "| NVIDIA-SMI 465.19.01    Driver Version: 460.32.03    CUDA Version: 11.2     |\n",
            "|-------------------------------+----------------------+----------------------+\n",
            "| GPU  Name        Persistence-M| Bus-Id        Disp.A | Volatile Uncorr. ECC |\n",
            "| Fan  Temp  Perf  Pwr:Usage/Cap|         Memory-Usage | GPU-Util  Compute M. |\n",
            "|                               |                      |               MIG M. |\n",
            "|===============================+======================+======================|\n",
            "|   0  Tesla T4            Off  | 00000000:00:04.0 Off |                    0 |\n",
            "| N/A   32C    P8    10W /  70W |      0MiB / 15109MiB |      0%      Default |\n",
            "|                               |                      |                  N/A |\n",
            "+-------------------------------+----------------------+----------------------+\n",
            "                                                                               \n",
            "+-----------------------------------------------------------------------------+\n",
            "| Processes:                                                                  |\n",
            "|  GPU   GI   CI        PID   Type   Process name                  GPU Memory |\n",
            "|        ID   ID                                                   Usage      |\n",
            "|=============================================================================|\n",
            "|  No running processes found                                                 |\n",
            "+-----------------------------------------------------------------------------+\n"
          ],
          "name": "stdout"
        }
      ]
    },
    {
      "cell_type": "code",
      "metadata": {
        "id": "isRja8IfBDHV"
      },
      "source": [
        "!git clone https://github.com/auspicious3000/autovc.git\n",
        "%cd autovc\n",
        "!pip install wavenet_vocoder"
      ],
      "execution_count": null,
      "outputs": []
    },
    {
      "cell_type": "code",
      "metadata": {
        "colab": {
          "base_uri": "https://localhost:8080/"
        },
        "id": "pEEpHdCgFZOQ",
        "outputId": "3cc8e09c-fd33-41a9-9d82-083fe9a9391b"
      },
      "source": [
        "from google.colab import drive\n",
        "drive.mount('/content/drive')"
      ],
      "execution_count": 4,
      "outputs": [
        {
          "output_type": "stream",
          "text": [
            "Mounted at /content/drive\n"
          ],
          "name": "stdout"
        }
      ]
    },
    {
      "cell_type": "code",
      "metadata": {
        "colab": {
          "base_uri": "https://localhost:8080/"
        },
        "id": "qn8GH3_fL2C_",
        "outputId": "071ca8d7-4f24-4bce-8da8-c071f1775ada"
      },
      "source": [
        "import os\n",
        "os.environ['GOOGLE_APPLICATION_CREDENTIALS'] = '/content/drive/My Drive/KTH/DT2119/autovc/auth.json' \n",
        "!echo $GOOGLE_APPLICATION_CREDENTIALS\n",
        "\n",
        "project='dt2119-autovc' # change to your project name here\n",
        "os.environ['GCP_PROJECT'] = project \n",
        "os.environ['GCP_ACCOUNT'] = 'bdcc-colab@' + project + '.iam.gserviceaccount.com'\n",
        "\n",
        "!gcloud auth activate-service-account \"$GCP_ACCOUNT\" --key-file=\"$GOOGLE_APPLICATION_CREDENTIALS\" --project=\"$GCP_PROJECT\""
      ],
      "execution_count": 16,
      "outputs": [
        {
          "output_type": "stream",
          "text": [
            "/content/drive/My Drive/KTH/DT2119/autovc/auth.json\n",
            "Activated service account credentials for: [bdcc-colab@dt2119-autovc.iam.gserviceaccount.com]\n",
            "\n",
            "\n",
            "To take a quick anonymous survey, run:\n",
            "  $ gcloud survey\n",
            "\n"
          ],
          "name": "stdout"
        }
      ]
    },
    {
      "cell_type": "code",
      "metadata": {
        "colab": {
          "base_uri": "https://localhost:8080/"
        },
        "id": "Tz5hYgZZL6fY",
        "outputId": "9512f5aa-b9f5-4e65-a198-633f04b3c25e"
      },
      "source": [
        "!echo \"deb http://packages.cloud.google.com/apt gcsfuse-bionic main\" > /etc/apt/sources.list.d/gcsfuse.list\n",
        "!curl https://packages.cloud.google.com/apt/doc/apt-key.gpg | apt-key add -\n",
        "!apt -qq update\n",
        "!apt -qq install gcsfuse"
      ],
      "execution_count": 17,
      "outputs": [
        {
          "output_type": "stream",
          "text": [
            "  % Total    % Received % Xferd  Average Speed   Time    Time     Time  Current\n",
            "                                 Dload  Upload   Total   Spent    Left  Speed\n",
            "\r  0     0    0     0    0     0      0      0 --:--:-- --:--:-- --:--:--     0\r100  2537  100  2537    0     0   137k      0 --:--:-- --:--:-- --:--:--  145k\n",
            "OK\n",
            "74 packages can be upgraded. Run 'apt list --upgradable' to see them.\n",
            "The following package was automatically installed and is no longer required:\n",
            "  libnvidia-common-460\n",
            "Use 'apt autoremove' to remove it.\n",
            "The following NEW packages will be installed:\n",
            "  gcsfuse\n",
            "0 upgraded, 1 newly installed, 0 to remove and 74 not upgraded.\n",
            "Need to get 10.8 MB of archives.\n",
            "After this operation, 23.1 MB of additional disk space will be used.\n",
            "Selecting previously unselected package gcsfuse.\n",
            "(Reading database ... 160706 files and directories currently installed.)\n",
            "Preparing to unpack .../gcsfuse_0.35.0_amd64.deb ...\n",
            "Unpacking gcsfuse (0.35.0) ...\n",
            "Setting up gcsfuse (0.35.0) ...\n"
          ],
          "name": "stdout"
        }
      ]
    },
    {
      "cell_type": "code",
      "metadata": {
        "colab": {
          "base_uri": "https://localhost:8080/"
        },
        "id": "1lKNXm1wL9Rt",
        "outputId": "fd7c3490-659a-48cf-a329-52b387d7c99b"
      },
      "source": [
        "!mkdir DataSet\n",
        "!gcsfuse autovc_datasets DataSet"
      ],
      "execution_count": 20,
      "outputs": [
        {
          "output_type": "stream",
          "text": [
            "2021/05/24 07:04:32.891058 Using mount point: /content/autovc/DataSet\n",
            "2021/05/24 07:04:32.897752 Opening GCS connection...\n",
            "2021/05/24 07:04:33.118541 Mounting file system \"autovc_datasets\"...\n",
            "2021/05/24 07:04:33.119050 File system has been successfully mounted.\n"
          ],
          "name": "stdout"
        }
      ]
    },
    {
      "cell_type": "markdown",
      "metadata": {
        "id": "eRl4HyEGBPRB"
      },
      "source": [
        "## Test Pretrained AUTOVC"
      ]
    },
    {
      "cell_type": "code",
      "metadata": {
        "id": "WmRDjxIcQ0Wu"
      },
      "source": [
        "PATH = \"/content/drive/MyDrive/KTH/DT2119/autovc/\""
      ],
      "execution_count": 24,
      "outputs": []
    },
    {
      "cell_type": "code",
      "metadata": {
        "id": "y76iFBqfBTR8",
        "colab": {
          "base_uri": "https://localhost:8080/"
        },
        "outputId": "21799167-90c0-4f48-833a-e56bdc186054"
      },
      "source": [
        "import os\n",
        "import pickle\n",
        "import torch\n",
        "import numpy as np\n",
        "from math import ceil\n",
        "from model_vc import Generator\n",
        "from tqdm import tqdm\n",
        "\n",
        "\n",
        "def pad_seq(x, base=32):\n",
        "    len_out = int(base * ceil(float(x.shape[0])/base))\n",
        "    len_pad = len_out - x.shape[0]\n",
        "    assert len_pad >= 0\n",
        "    return np.pad(x, ((0,len_pad),(0,0)), 'constant'), len_pad\n",
        "\n",
        "device = 'cuda:0'\n",
        "G = Generator(32,256,512,32).eval().to(device)\n",
        "\n",
        "g_checkpoint = torch.load(PATH + 'autovc.ckpt', map_location=device)\n",
        "G.load_state_dict(g_checkpoint['model'])\n",
        "\n",
        "metadata = pickle.load(open(PATH + 'inference_data_vctk.pkl', \"rb\"))\n",
        "\n",
        "spect_vc = []\n",
        "\n",
        "for sbmt_i in tqdm(metadata):\n",
        "             \n",
        "    x_org = sbmt_i[2]\n",
        "    x_org, len_pad = pad_seq(x_org)\n",
        "    uttr_org = torch.from_numpy(x_org[np.newaxis, :, :]).to(device)\n",
        "    emb_org = torch.from_numpy(sbmt_i[1][np.newaxis, :]).to(device)\n",
        "    \n",
        "    for sbmt_j in metadata:\n",
        "                   \n",
        "        emb_trg = torch.from_numpy(sbmt_j[1][np.newaxis, :]).to(device)\n",
        "        \n",
        "        with torch.no_grad():\n",
        "            _, x_identic_psnt, _ = G(uttr_org, emb_org, emb_trg)\n",
        "            \n",
        "        if len_pad == 0:\n",
        "            uttr_trg = x_identic_psnt[0, 0, :, :].cpu().numpy()\n",
        "        else:\n",
        "            uttr_trg = x_identic_psnt[0, 0, :-len_pad, :].cpu().numpy()\n",
        "        \n",
        "        spect_vc.append( ('{}x{}'.format(sbmt_i[0], sbmt_j[0]), uttr_trg) )\n",
        "        \n",
        "        \n",
        "with open(PATH + 'results.pkl', 'wb') as handle:\n",
        "    pickle.dump(spect_vc, handle)"
      ],
      "execution_count": 47,
      "outputs": [
        {
          "output_type": "stream",
          "text": [
            "100%|██████████| 100/100 [04:59<00:00,  3.00s/it]\n"
          ],
          "name": "stderr"
        }
      ]
    },
    {
      "cell_type": "code",
      "metadata": {
        "colab": {
          "base_uri": "https://localhost:8080/"
        },
        "id": "YyoFkiDiCVZ1",
        "outputId": "aa6fb244-445e-46fd-f0ba-081b8c6fc5f0"
      },
      "source": [
        "import pickle\n",
        "results = pickle.load(open(PATH + 'results.pkl', \"rb\"))\n",
        "results[1]"
      ],
      "execution_count": 53,
      "outputs": [
        {
          "output_type": "execute_result",
          "data": {
            "text/plain": [
              "('81_8428x81_2410',\n",
              " array([[0.59552336, 0.6570385 , 0.6850097 , ..., 0.39057094, 0.38193384,\n",
              "         0.37604806],\n",
              "        [0.5974795 , 0.669648  , 0.68183315, ..., 0.42223352, 0.4235039 ,\n",
              "         0.4238885 ],\n",
              "        [0.56228966, 0.58287394, 0.587679  , ..., 0.4354806 , 0.43719044,\n",
              "         0.44254252],\n",
              "        ...,\n",
              "        [0.47247043, 0.40488604, 0.36818382, ..., 0.06046268, 0.05098336,\n",
              "         0.03299633],\n",
              "        [0.4677987 , 0.40172842, 0.3780408 , ..., 0.05065775, 0.04433715,\n",
              "         0.03218482],\n",
              "        [0.458991  , 0.38907728, 0.3619622 , ..., 0.04947352, 0.04062493,\n",
              "         0.02674038]], dtype=float32))"
            ]
          },
          "metadata": {
            "tags": []
          },
          "execution_count": 53
        }
      ]
    },
    {
      "cell_type": "code",
      "metadata": {
        "id": "tS-XOlA5R2Dm"
      },
      "source": [
        "metadata = pickle.load(open(PATH + 'vctk_inference_data.pkl', \"rb\"))\n",
        "# metadata"
      ],
      "execution_count": 31,
      "outputs": []
    },
    {
      "cell_type": "code",
      "metadata": {
        "colab": {
          "base_uri": "https://localhost:8080/"
        },
        "id": "1MctRL0-JCNu",
        "outputId": "50855d6c-0299-4998-e5b4-3ef57d9acb96"
      },
      "source": [
        "metadata = pickle.load(open(PATH + 'inference_data_vctk.pkl', \"rb\"))\n",
        "metadata[2][1].shape"
      ],
      "execution_count": 46,
      "outputs": [
        {
          "output_type": "execute_result",
          "data": {
            "text/plain": [
              "(256,)"
            ]
          },
          "metadata": {
            "tags": []
          },
          "execution_count": 46
        }
      ]
    },
    {
      "cell_type": "code",
      "metadata": {
        "colab": {
          "base_uri": "https://localhost:8080/"
        },
        "id": "5HRejeyZCsDJ",
        "outputId": "5b0d7137-b3be-4292-f37e-18067ee924e7"
      },
      "source": [
        "import torch\n",
        "import librosa\n",
        "import pickle\n",
        "from synthesis import build_model\n",
        "from synthesis import wavegen\n",
        "import soundfile as sf\n",
        "\n",
        "spect_vc = pickle.load(open(PATH + 'results.pkl', 'rb'))[:10]\n",
        "device = torch.device(\"cuda\")\n",
        "model = build_model().to(device)\n",
        "checkpoint = torch.load(PATH+\"checkpoint_step001000000_ema.pth\", map_location=device)\n",
        "model.load_state_dict(checkpoint[\"state_dict\"])\n",
        "\n",
        "for spect in spect_vc:\n",
        "    name = spect[0]\n",
        "    c = spect[1]\n",
        "    print(name)\n",
        "    waveform = wavegen(model, c=c)   \n",
        "    sf.write(\"wavs/\" + name+'.wav', waveform, samplerate=16000)"
      ],
      "execution_count": null,
      "outputs": [
        {
          "output_type": "stream",
          "text": [
            "  0%|          | 4/32768 [00:00<13:52, 39.36it/s]"
          ],
          "name": "stderr"
        },
        {
          "output_type": "stream",
          "text": [
            "81_8428x81_8428\n"
          ],
          "name": "stdout"
        },
        {
          "output_type": "stream",
          "text": [
            "100%|██████████| 32768/32768 [04:34<00:00, 119.21it/s]\n",
            "  0%|          | 12/32768 [00:00<04:39, 117.40it/s]"
          ],
          "name": "stderr"
        },
        {
          "output_type": "stream",
          "text": [
            "81_8428x81_2410\n"
          ],
          "name": "stdout"
        },
        {
          "output_type": "stream",
          "text": [
            "100%|██████████| 32768/32768 [04:33<00:00, 119.84it/s]\n",
            "  0%|          | 11/32768 [00:00<05:07, 106.67it/s]"
          ],
          "name": "stderr"
        },
        {
          "output_type": "stream",
          "text": [
            "81_8428x81_7128\n"
          ],
          "name": "stdout"
        },
        {
          "output_type": "stream",
          "text": [
            " 19%|█▉        | 6336/32768 [00:53<03:37, 121.44it/s]"
          ],
          "name": "stderr"
        }
      ]
    }
  ]
}